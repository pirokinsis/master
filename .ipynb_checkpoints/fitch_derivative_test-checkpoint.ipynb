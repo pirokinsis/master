{
 "cells": [
  {
   "cell_type": "code",
   "execution_count": 1,
   "id": "12acb874",
   "metadata": {},
   "outputs": [],
   "source": [
    "import numpy as np\n"
   ]
  },
  {
   "cell_type": "code",
   "execution_count": 2,
   "id": "55d98f60",
   "metadata": {},
   "outputs": [],
   "source": [
    "S=np.random.rand(5,5)\n",
    "\n",
    "S=S+S.T"
   ]
  },
  {
   "cell_type": "code",
   "execution_count": 3,
   "id": "600ec86e",
   "metadata": {},
   "outputs": [
    {
     "data": {
      "text/plain": [
       "array([[1.59153981, 1.05068736, 0.81542495, 0.85989767, 0.73428031],\n",
       "       [1.05068736, 1.356982  , 1.04849605, 1.01090133, 0.93862767],\n",
       "       [0.81542495, 1.04849605, 1.80352228, 0.71930351, 0.78416711],\n",
       "       [0.85989767, 1.01090133, 0.71930351, 1.5013794 , 1.183181  ],\n",
       "       [0.73428031, 0.93862767, 0.78416711, 1.183181  , 0.86297629]])"
      ]
     },
     "execution_count": 3,
     "metadata": {},
     "output_type": "execute_result"
    }
   ],
   "source": [
    "S"
   ]
  },
  {
   "cell_type": "code",
   "execution_count": 4,
   "id": "8a3c474e",
   "metadata": {},
   "outputs": [
    {
     "data": {
      "text/plain": [
       "array([[0.34561623, 0.7149348 , 0.12814859, 0.95944329, 0.77150279],\n",
       "       [0.4614508 , 0.19320066, 0.80299608, 0.32831244, 0.10008339],\n",
       "       [0.18423435, 0.5745206 , 0.19326573, 0.07498172, 0.97397851],\n",
       "       [0.77096703, 0.94052451, 0.85664903, 0.99971064, 0.38764659],\n",
       "       [0.38802068, 0.99815442, 0.12600071, 0.28378887, 0.22570626]])"
      ]
     },
     "execution_count": 4,
     "metadata": {},
     "output_type": "execute_result"
    }
   ],
   "source": [
    "B=np.random.rand(5,5)\n",
    "B"
   ]
  },
  {
   "cell_type": "code",
   "execution_count": 5,
   "id": "2b2f0960",
   "metadata": {},
   "outputs": [],
   "source": [
    "C=np.zeros(shape=(5,5))\n",
    "np.fill_diagonal(C,np.random.rand(5))"
   ]
  },
  {
   "cell_type": "code",
   "execution_count": 6,
   "id": "0f3d4da3",
   "metadata": {},
   "outputs": [
    {
     "data": {
      "text/plain": [
       "array([[0.94491119, 0.        , 0.        , 0.        , 0.        ],\n",
       "       [0.        , 0.22134623, 0.        , 0.        , 0.        ],\n",
       "       [0.        , 0.        , 0.30012268, 0.        , 0.        ],\n",
       "       [0.        , 0.        , 0.        , 0.9968163 , 0.        ],\n",
       "       [0.        , 0.        , 0.        , 0.        , 0.71308636]])"
      ]
     },
     "execution_count": 6,
     "metadata": {},
     "output_type": "execute_result"
    }
   ],
   "source": [
    "C"
   ]
  },
  {
   "cell_type": "code",
   "execution_count": 7,
   "id": "71c10c54",
   "metadata": {},
   "outputs": [
    {
     "data": {
      "text/plain": [
       "array([[-3.07088249,  0.7149348 ,  0.12814859,  0.95944329,  0.77150279],\n",
       "       [ 0.4614508 , -2.40509214,  0.80299608,  0.32831244,  0.10008339],\n",
       "       [ 0.18423435,  0.5745206 , -2.73137165,  0.07498172,  0.97397851],\n",
       "       [ 0.77096703,  0.94052451,  0.85664903, -3.17012351,  0.38764659],\n",
       "       [ 0.38802068,  0.99815442,  0.12600071,  0.28378887, -1.94313017]])"
      ]
     },
     "execution_count": 7,
     "metadata": {},
     "output_type": "execute_result"
    }
   ],
   "source": [
    "np.fill_diagonal(B,B.diagonal()-B.sum(axis=1)-np.random.rand(5))\n",
    "B"
   ]
  },
  {
   "cell_type": "code",
   "execution_count": 8,
   "id": "b8a0a7b3",
   "metadata": {},
   "outputs": [
    {
     "data": {
      "text/plain": [
       "99.7204610036485"
      ]
     },
     "execution_count": 8,
     "metadata": {},
     "output_type": "execute_result"
    }
   ],
   "source": [
    "((B@S+S@B.T+C)**2).sum()"
   ]
  },
  {
   "cell_type": "code",
   "execution_count": 35,
   "id": "fd0d43fc",
   "metadata": {},
   "outputs": [
    {
     "name": "stdout",
     "output_type": "stream",
     "text": [
      "1.0113785350248068\n",
      "1.0107321601975243\n",
      "1.0100869519632039\n",
      "1.009442905092866\n",
      "1.0088000143860323\n",
      "1.0081582746705573\n",
      "1.0075176808024777\n",
      "1.0068782276658492\n",
      "1.0062399101725878\n",
      "1.0056027232623155\n",
      "1.0049666619022057\n",
      "1.0043317210868223\n",
      "1.0036978958379723\n",
      "1.0030651812045508\n",
      "1.0024335722623847\n",
      "1.001803064114087\n",
      "1.0011736518889003\n",
      "1.0005453307425558\n",
      "0.9999180958571139\n",
      "0.9992919424408218\n",
      "0.9986668657279689\n",
      "0.9980428609787341\n",
      "0.9974199234790442\n",
      "0.9967980485404306\n",
      "0.9961772314998814\n",
      "0.9955574677197\n",
      "0.9949387525873656\n",
      "0.9943210815153863\n",
      "0.993704449941166\n",
      "0.9930888533268555\n"
     ]
    }
   ],
   "source": [
    "for i in range(30):\n",
    "    B-=0.01*(2*(B@S+S@B.T)+C.T+C)@S\n",
    "    C-=2*(B@S+S@B.T+C)\n",
    "    print(((B@S+S@B.T+C)**2).sum())"
   ]
  },
  {
   "cell_type": "code",
   "execution_count": 13,
   "id": "8c8896c4",
   "metadata": {},
   "outputs": [
    {
     "data": {
      "text/plain": [
       "array([[-1.19732782e+00,  2.42114779e-01, -3.42587309e-02,\n",
       "         2.44130373e-02, -1.30312651e-02],\n",
       "       [ 2.42114779e-01, -9.50870962e-01,  2.71130832e-01,\n",
       "         3.03101442e-01,  8.74643045e-04],\n",
       "       [-3.42587309e-02,  2.71130832e-01, -3.79205981e-01,\n",
       "         3.45133697e-02, -2.27183466e-01],\n",
       "       [ 2.44130373e-02,  3.03101442e-01,  3.45133697e-02,\n",
       "        -7.90409037e-01, -5.70451706e-01],\n",
       "       [-1.30312651e-02,  8.74643045e-04, -2.27183466e-01,\n",
       "        -5.70451706e-01,  4.22384132e-02]])"
      ]
     },
     "execution_count": 13,
     "metadata": {},
     "output_type": "execute_result"
    }
   ],
   "source": [
    "B@S+S@B.T"
   ]
  },
  {
   "cell_type": "code",
   "execution_count": 258,
   "id": "a259eb2e",
   "metadata": {},
   "outputs": [
    {
     "data": {
      "text/plain": [
       "array([[0.94761212, 0.        , 0.        , 0.        , 0.        ],\n",
       "       [0.        , 0.74502746, 0.        , 0.        , 0.        ],\n",
       "       [0.        , 0.        , 0.23922789, 0.        , 0.        ],\n",
       "       [0.        , 0.        , 0.        , 0.21447044, 0.        ],\n",
       "       [0.        , 0.        , 0.        , 0.        , 0.76422571]])"
      ]
     },
     "execution_count": 258,
     "metadata": {},
     "output_type": "execute_result"
    }
   ],
   "source": [
    "C"
   ]
  },
  {
   "cell_type": "code",
   "execution_count": 259,
   "id": "136b81d0",
   "metadata": {},
   "outputs": [
    {
     "data": {
      "text/plain": [
       "array([[ 0.00579819, -0.01383062, -0.01354303,  0.00462458,  0.01685253],\n",
       "       [-0.01383062,  0.03299064,  0.03230466, -0.01103117, -0.04019892],\n",
       "       [-0.01354303,  0.03230466,  0.03163295, -0.0108018 , -0.03936306],\n",
       "       [ 0.00462458, -0.01103117, -0.0108018 ,  0.00368853,  0.01344143],\n",
       "       [ 0.01685253, -0.04019892, -0.03936306,  0.01344143,  0.04898218]])"
      ]
     },
     "execution_count": 259,
     "metadata": {},
     "output_type": "execute_result"
    }
   ],
   "source": [
    "B@S+S@B.T+C"
   ]
  },
  {
   "cell_type": "code",
   "execution_count": null,
   "id": "426ed6f3",
   "metadata": {},
   "outputs": [],
   "source": []
  }
 ],
 "metadata": {
  "kernelspec": {
   "display_name": "Python 3 (ipykernel)",
   "language": "python",
   "name": "python3"
  },
  "language_info": {
   "codemirror_mode": {
    "name": "ipython",
    "version": 3
   },
   "file_extension": ".py",
   "mimetype": "text/x-python",
   "name": "python",
   "nbconvert_exporter": "python",
   "pygments_lexer": "ipython3",
   "version": "3.9.12"
  }
 },
 "nbformat": 4,
 "nbformat_minor": 5
}
