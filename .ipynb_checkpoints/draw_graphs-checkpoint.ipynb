{
 "cells": [
  {
   "cell_type": "code",
   "execution_count": 8,
   "id": "1fea393c",
   "metadata": {},
   "outputs": [],
   "source": [
    "import pandas as pd\n"
   ]
  },
  {
   "cell_type": "code",
   "execution_count": 13,
   "id": "75f8ab15",
   "metadata": {},
   "outputs": [],
   "source": [
    "data=pd.read_csv(\"data_rand.txt\",sep=\";\",names=(\"run\",\"p\",\"n\",\"sample_size\",\"method\",\"tp\",\"tn\",\"fp\",\"fn\"))"
   ]
  },
  {
   "cell_type": "code",
   "execution_count": 160,
   "id": "a9c78525",
   "metadata": {},
   "outputs": [],
   "source": [
    "data[\"accuracy\"]=(data.tp+data.tn)/(data.tp+data.tn+data.fp+data.fn)\n",
    "data[\"percision\"]=(data.tp)/(data.tp+data.fp)\n",
    "data[\"recall\"]=(data.tp)/(data.tp+data.fn)\n",
    "data[\"f1\"]=2*(data.percision*data.recall)/(data.percision+data.recall)\n",
    "data[\"tpr\"]=data.tp/(data.tp+data.fn)\n",
    "data[\"fpr\"]=data.fp/(data.fp+data.tn)\n"
   ]
  },
  {
   "cell_type": "code",
   "execution_count": 192,
   "id": "2ce21c60",
   "metadata": {},
   "outputs": [],
   "source": [
    "data[\"p2\"]=(data[\"p\"]-0.05).round(1)+0.05"
   ]
  },
  {
   "cell_type": "code",
   "execution_count": 196,
   "id": "ca161876",
   "metadata": {},
   "outputs": [
    {
     "data": {
      "text/html": [
       "<div>\n",
       "<style scoped>\n",
       "    .dataframe tbody tr th:only-of-type {\n",
       "        vertical-align: middle;\n",
       "    }\n",
       "\n",
       "    .dataframe tbody tr th {\n",
       "        vertical-align: top;\n",
       "    }\n",
       "\n",
       "    .dataframe thead th {\n",
       "        text-align: right;\n",
       "    }\n",
       "</style>\n",
       "<table border=\"1\" class=\"dataframe\">\n",
       "  <thead>\n",
       "    <tr style=\"text-align: right;\">\n",
       "      <th></th>\n",
       "      <th>p</th>\n",
       "      <th>p2</th>\n",
       "    </tr>\n",
       "  </thead>\n",
       "  <tbody>\n",
       "    <tr>\n",
       "      <th>155537</th>\n",
       "      <td>0.164792</td>\n",
       "      <td>0.15</td>\n",
       "    </tr>\n",
       "    <tr>\n",
       "      <th>166975</th>\n",
       "      <td>0.792075</td>\n",
       "      <td>0.75</td>\n",
       "    </tr>\n",
       "    <tr>\n",
       "      <th>158599</th>\n",
       "      <td>0.767414</td>\n",
       "      <td>0.75</td>\n",
       "    </tr>\n",
       "    <tr>\n",
       "      <th>258653</th>\n",
       "      <td>0.023685</td>\n",
       "      <td>0.05</td>\n",
       "    </tr>\n",
       "    <tr>\n",
       "      <th>269304</th>\n",
       "      <td>0.423432</td>\n",
       "      <td>0.45</td>\n",
       "    </tr>\n",
       "    <tr>\n",
       "      <th>263743</th>\n",
       "      <td>0.554498</td>\n",
       "      <td>0.55</td>\n",
       "    </tr>\n",
       "    <tr>\n",
       "      <th>274759</th>\n",
       "      <td>0.911739</td>\n",
       "      <td>0.95</td>\n",
       "    </tr>\n",
       "    <tr>\n",
       "      <th>150885</th>\n",
       "      <td>0.473745</td>\n",
       "      <td>0.45</td>\n",
       "    </tr>\n",
       "    <tr>\n",
       "      <th>29289</th>\n",
       "      <td>0.096802</td>\n",
       "      <td>0.05</td>\n",
       "    </tr>\n",
       "    <tr>\n",
       "      <th>128867</th>\n",
       "      <td>0.098075</td>\n",
       "      <td>0.05</td>\n",
       "    </tr>\n",
       "    <tr>\n",
       "      <th>72197</th>\n",
       "      <td>0.871572</td>\n",
       "      <td>0.85</td>\n",
       "    </tr>\n",
       "    <tr>\n",
       "      <th>82363</th>\n",
       "      <td>0.083226</td>\n",
       "      <td>0.05</td>\n",
       "    </tr>\n",
       "    <tr>\n",
       "      <th>233706</th>\n",
       "      <td>0.396607</td>\n",
       "      <td>0.35</td>\n",
       "    </tr>\n",
       "    <tr>\n",
       "      <th>222905</th>\n",
       "      <td>0.487477</td>\n",
       "      <td>0.45</td>\n",
       "    </tr>\n",
       "    <tr>\n",
       "      <th>214782</th>\n",
       "      <td>0.091311</td>\n",
       "      <td>0.05</td>\n",
       "    </tr>\n",
       "    <tr>\n",
       "      <th>256295</th>\n",
       "      <td>0.747499</td>\n",
       "      <td>0.75</td>\n",
       "    </tr>\n",
       "    <tr>\n",
       "      <th>270915</th>\n",
       "      <td>0.757189</td>\n",
       "      <td>0.75</td>\n",
       "    </tr>\n",
       "    <tr>\n",
       "      <th>90491</th>\n",
       "      <td>0.268786</td>\n",
       "      <td>0.25</td>\n",
       "    </tr>\n",
       "    <tr>\n",
       "      <th>183989</th>\n",
       "      <td>0.853445</td>\n",
       "      <td>0.85</td>\n",
       "    </tr>\n",
       "    <tr>\n",
       "      <th>33752</th>\n",
       "      <td>0.216659</td>\n",
       "      <td>0.25</td>\n",
       "    </tr>\n",
       "  </tbody>\n",
       "</table>\n",
       "</div>"
      ],
      "text/plain": [
       "               p    p2\n",
       "155537  0.164792  0.15\n",
       "166975  0.792075  0.75\n",
       "158599  0.767414  0.75\n",
       "258653  0.023685  0.05\n",
       "269304  0.423432  0.45\n",
       "263743  0.554498  0.55\n",
       "274759  0.911739  0.95\n",
       "150885  0.473745  0.45\n",
       "29289   0.096802  0.05\n",
       "128867  0.098075  0.05\n",
       "72197   0.871572  0.85\n",
       "82363   0.083226  0.05\n",
       "233706  0.396607  0.35\n",
       "222905  0.487477  0.45\n",
       "214782  0.091311  0.05\n",
       "256295  0.747499  0.75\n",
       "270915  0.757189  0.75\n",
       "90491   0.268786  0.25\n",
       "183989  0.853445  0.85\n",
       "33752   0.216659  0.25"
      ]
     },
     "execution_count": 196,
     "metadata": {},
     "output_type": "execute_result"
    }
   ],
   "source": [
    "data[[\"p\",\"p2\"]].sample(20)"
   ]
  },
  {
   "cell_type": "code",
   "execution_count": 198,
   "id": "a6f04f89",
   "metadata": {},
   "outputs": [],
   "source": [
    "grouped=data.groupby([\"run\",\"p2\",\"n\",\"method\",\"sample_size\"]).agg(max_acc=('accuracy', 'max'), \n",
    "                               max_f1=('f1', 'max'))\n",
    "grouped=grouped.reset_index()"
   ]
  },
  {
   "cell_type": "code",
   "execution_count": 203,
   "id": "835e3585",
   "metadata": {},
   "outputs": [
    {
     "data": {
      "image/png": "[encoded data removed]",
      "text/plain": [
       "<Figure size 432x288 with 1 Axes>"
      ]
     },
     "metadata": {
      "needs_background": "light"
     },
     "output_type": "display_data"
    },
    {
     "data": {
      "image/png": "[encoded data removed]",
      "text/plain": [
       "<Figure size 432x288 with 1 Axes>"
      ]
     },
     "metadata": {
      "needs_background": "light"
     },
     "output_type": "display_data"
    }
   ],
   "source": [
    "\n",
    "for i in [-1,100,1000,10000]:\n",
    "    for method in [\"fitch\",\"varadno\"]:\n",
    "        sample=grouped[(grouped.sample_size==i)&(grouped.method==method)]\n",
    "        g=sample.groupby(\"p2\").agg(av_max_acc=('max_acc', 'mean'), av_max_f1=('max_f1', 'mean'))\n",
    "        g=g.reset_index()\n",
    "        if (i==-1 and method==\"fitch\"):\n",
    "            ax1=g.plot(\"p2\",\"av_max_acc\",label=method+\" exact\")\n",
    "        elif (i==-1 and method==\"varadno\"):\n",
    "            ax2=g.plot(\"p2\",\"av_max_acc\",label=method+\" exact\")\n",
    "        else:\n",
    "            if (method ==\"fitch\"):\n",
    "                ax=ax1\n",
    "            else: \n",
    "                ax=ax2\n",
    "            g.plot(\"p2\",\"av_max_acc\",label=method+str(i),ax=ax)"
   ]
  },
  {
   "cell_type": "code",
   "execution_count": 86,
   "id": "7be9b0e8",
   "metadata": {},
   "outputs": [
    {
     "data": {
      "text/html": [
       "<div>\n",
       "<style scoped>\n",
       "    .dataframe tbody tr th:only-of-type {\n",
       "        vertical-align: middle;\n",
       "    }\n",
       "\n",
       "    .dataframe tbody tr th {\n",
       "        vertical-align: top;\n",
       "    }\n",
       "\n",
       "    .dataframe thead th {\n",
       "        text-align: right;\n",
       "    }\n",
       "</style>\n",
       "<table border=\"1\" class=\"dataframe\">\n",
       "  <thead>\n",
       "    <tr style=\"text-align: right;\">\n",
       "      <th></th>\n",
       "      <th>run</th>\n",
       "      <th>p</th>\n",
       "      <th>n</th>\n",
       "      <th>method</th>\n",
       "      <th>sample_size</th>\n",
       "      <th>max_acc</th>\n",
       "      <th>max_f1</th>\n",
       "    </tr>\n",
       "  </thead>\n",
       "  <tbody>\n",
       "    <tr>\n",
       "      <th>0</th>\n",
       "      <td>0</td>\n",
       "      <td>0.550771</td>\n",
       "      <td>5</td>\n",
       "      <td>fitch</td>\n",
       "      <td>-1</td>\n",
       "      <td>0.900000</td>\n",
       "      <td>0.900000</td>\n",
       "    </tr>\n",
       "    <tr>\n",
       "      <th>1</th>\n",
       "      <td>0</td>\n",
       "      <td>0.550771</td>\n",
       "      <td>5</td>\n",
       "      <td>fitch</td>\n",
       "      <td>10</td>\n",
       "      <td>0.600000</td>\n",
       "      <td>0.620690</td>\n",
       "    </tr>\n",
       "    <tr>\n",
       "      <th>2</th>\n",
       "      <td>0</td>\n",
       "      <td>0.550771</td>\n",
       "      <td>5</td>\n",
       "      <td>fitch</td>\n",
       "      <td>100</td>\n",
       "      <td>0.800000</td>\n",
       "      <td>0.750000</td>\n",
       "    </tr>\n",
       "    <tr>\n",
       "      <th>3</th>\n",
       "      <td>0</td>\n",
       "      <td>0.550771</td>\n",
       "      <td>5</td>\n",
       "      <td>fitch</td>\n",
       "      <td>1000</td>\n",
       "      <td>0.800000</td>\n",
       "      <td>0.818182</td>\n",
       "    </tr>\n",
       "    <tr>\n",
       "      <th>4</th>\n",
       "      <td>0</td>\n",
       "      <td>0.550771</td>\n",
       "      <td>5</td>\n",
       "      <td>fitch</td>\n",
       "      <td>10000</td>\n",
       "      <td>0.900000</td>\n",
       "      <td>0.900000</td>\n",
       "    </tr>\n",
       "    <tr>\n",
       "      <th>...</th>\n",
       "      <td>...</td>\n",
       "      <td>...</td>\n",
       "      <td>...</td>\n",
       "      <td>...</td>\n",
       "      <td>...</td>\n",
       "      <td>...</td>\n",
       "      <td>...</td>\n",
       "    </tr>\n",
       "    <tr>\n",
       "      <th>3906</th>\n",
       "      <td>431</td>\n",
       "      <td>0.384001</td>\n",
       "      <td>13</td>\n",
       "      <td>fitch</td>\n",
       "      <td>-1</td>\n",
       "      <td>0.705128</td>\n",
       "      <td>0.783019</td>\n",
       "    </tr>\n",
       "    <tr>\n",
       "      <th>3907</th>\n",
       "      <td>431</td>\n",
       "      <td>0.384001</td>\n",
       "      <td>13</td>\n",
       "      <td>fitch</td>\n",
       "      <td>100</td>\n",
       "      <td>0.608974</td>\n",
       "      <td>0.747967</td>\n",
       "    </tr>\n",
       "    <tr>\n",
       "      <th>3908</th>\n",
       "      <td>431</td>\n",
       "      <td>0.384001</td>\n",
       "      <td>13</td>\n",
       "      <td>varadno</td>\n",
       "      <td>-1</td>\n",
       "      <td>0.685897</td>\n",
       "      <td>0.767773</td>\n",
       "    </tr>\n",
       "    <tr>\n",
       "      <th>3909</th>\n",
       "      <td>431</td>\n",
       "      <td>0.384001</td>\n",
       "      <td>13</td>\n",
       "      <td>varadno</td>\n",
       "      <td>100</td>\n",
       "      <td>0.602564</td>\n",
       "      <td>0.746988</td>\n",
       "    </tr>\n",
       "    <tr>\n",
       "      <th>3910</th>\n",
       "      <td>431</td>\n",
       "      <td>0.384001</td>\n",
       "      <td>13</td>\n",
       "      <td>varadno</td>\n",
       "      <td>1000</td>\n",
       "      <td>0.653846</td>\n",
       "      <td>0.750000</td>\n",
       "    </tr>\n",
       "  </tbody>\n",
       "</table>\n",
       "<p>3911 rows × 7 columns</p>\n",
       "</div>"
      ],
      "text/plain": [
       "      run         p   n   method  sample_size   max_acc    max_f1\n",
       "0       0  0.550771   5    fitch           -1  0.900000  0.900000\n",
       "1       0  0.550771   5    fitch           10  0.600000  0.620690\n",
       "2       0  0.550771   5    fitch          100  0.800000  0.750000\n",
       "3       0  0.550771   5    fitch         1000  0.800000  0.818182\n",
       "4       0  0.550771   5    fitch        10000  0.900000  0.900000\n",
       "...   ...       ...  ..      ...          ...       ...       ...\n",
       "3906  431  0.384001  13    fitch           -1  0.705128  0.783019\n",
       "3907  431  0.384001  13    fitch          100  0.608974  0.747967\n",
       "3908  431  0.384001  13  varadno           -1  0.685897  0.767773\n",
       "3909  431  0.384001  13  varadno          100  0.602564  0.746988\n",
       "3910  431  0.384001  13  varadno         1000  0.653846  0.750000\n",
       "\n",
       "[3911 rows x 7 columns]"
      ]
     },
     "execution_count": 86,
     "metadata": {},
     "output_type": "execute_result"
    }
   ],
   "source": [
    "grouped"
   ]
  },
  {
   "cell_type": "code",
   "execution_count": 80,
   "id": "00a49367",
   "metadata": {},
   "outputs": [],
   "source": [
    "grouped=data.groupby([\"run\",\"p\",\"n\",\"sample_size\"])"
   ]
  },
  {
   "cell_type": "code",
   "execution_count": 257,
   "id": "992b4180",
   "metadata": {},
   "outputs": [],
   "source": [
    "def compute_auroc(data):\n",
    "    data=data.dropna()\n",
    "    if (data.shape[0]<2):\n",
    "        return 0.5\n",
    "    data=data.sort_values(by=\"fpr\")\n",
    "    return(auc(data.fpr,data.tpr))\n",
    "def comupte_auprc(data):\n",
    "    data=data.dropna()\n",
    "    if (data.shape[0]<2):\n",
    "        return 0.5\n",
    "    data=data.sort_values(by=\"recall\")\n",
    "    return(auc(data.recall,data.percision))"
   ]
  },
  {
   "cell_type": "code",
   "execution_count": 151,
   "id": "bc4c7cc1",
   "metadata": {},
   "outputs": [],
   "source": [
    "from scipy import integrate\n",
    "import numpy as np\n",
    "from sklearn.metrics import auc"
   ]
  },
  {
   "cell_type": "code",
   "execution_count": 276,
   "id": "15835d3d",
   "metadata": {},
   "outputs": [
    {
     "name": "stdout",
     "output_type": "stream",
     "text": [
      "0.8787878787878788\n",
      "0.6833333333333333\n"
     ]
    },
    {
     "data": {
      "text/plain": [
       "<AxesSubplot:xlabel='recall'>"
      ]
     },
     "execution_count": 276,
     "metadata": {},
     "output_type": "execute_result"
    },
    {
     "data": {
      "image/png": "[encoded data removed]",
      "text/plain": [
       "<Figure size 432x288 with 1 Axes>"
      ]
     },
     "metadata": {
      "needs_background": "light"
     },
     "output_type": "display_data"
    }
   ],
   "source": [
    "test=data[(data.run==0)&(data.sample_size==-1)&(data.method==\"varadno\")]\n",
    "sample=test.dropna()\n",
    "\n",
    "print(comupte_auroc(sample))\n",
    "\n",
    "sample=sample.sort_values(by=\"recall\")\n",
    "print(auc(sample.recall,sample.percision))\n",
    "sample.plot(\"recall\",\"percision\")"
   ]
  },
  {
   "cell_type": "code",
   "execution_count": 248,
   "id": "53c33417",
   "metadata": {},
   "outputs": [
    {
     "data": {
      "text/html": [
       "<div>\n",
       "<style scoped>\n",
       "    .dataframe tbody tr th:only-of-type {\n",
       "        vertical-align: middle;\n",
       "    }\n",
       "\n",
       "    .dataframe tbody tr th {\n",
       "        vertical-align: top;\n",
       "    }\n",
       "\n",
       "    .dataframe thead th {\n",
       "        text-align: right;\n",
       "    }\n",
       "</style>\n",
       "<table border=\"1\" class=\"dataframe\">\n",
       "  <thead>\n",
       "    <tr style=\"text-align: right;\">\n",
       "      <th></th>\n",
       "      <th>percision</th>\n",
       "    </tr>\n",
       "    <tr>\n",
       "      <th>recall</th>\n",
       "      <th></th>\n",
       "    </tr>\n",
       "  </thead>\n",
       "  <tbody>\n",
       "    <tr>\n",
       "      <th>0.000000</th>\n",
       "      <td>NaN</td>\n",
       "    </tr>\n",
       "    <tr>\n",
       "      <th>0.034483</th>\n",
       "      <td>0.500000</td>\n",
       "    </tr>\n",
       "    <tr>\n",
       "      <th>0.103448</th>\n",
       "      <td>0.500000</td>\n",
       "    </tr>\n",
       "    <tr>\n",
       "      <th>0.172414</th>\n",
       "      <td>0.413152</td>\n",
       "    </tr>\n",
       "    <tr>\n",
       "      <th>0.206897</th>\n",
       "      <td>0.400000</td>\n",
       "    </tr>\n",
       "    <tr>\n",
       "      <th>0.517241</th>\n",
       "      <td>0.517241</td>\n",
       "    </tr>\n",
       "    <tr>\n",
       "      <th>0.758621</th>\n",
       "      <td>0.564103</td>\n",
       "    </tr>\n",
       "    <tr>\n",
       "      <th>0.793103</th>\n",
       "      <td>0.534884</td>\n",
       "    </tr>\n",
       "    <tr>\n",
       "      <th>0.862069</th>\n",
       "      <td>0.520833</td>\n",
       "    </tr>\n",
       "    <tr>\n",
       "      <th>0.896552</th>\n",
       "      <td>0.416667</td>\n",
       "    </tr>\n",
       "    <tr>\n",
       "      <th>0.931034</th>\n",
       "      <td>0.404655</td>\n",
       "    </tr>\n",
       "    <tr>\n",
       "      <th>0.965517</th>\n",
       "      <td>0.337382</td>\n",
       "    </tr>\n",
       "    <tr>\n",
       "      <th>1.000000</th>\n",
       "      <td>0.325740</td>\n",
       "    </tr>\n",
       "  </tbody>\n",
       "</table>\n",
       "</div>"
      ],
      "text/plain": [
       "          percision\n",
       "recall             \n",
       "0.000000        NaN\n",
       "0.034483   0.500000\n",
       "0.103448   0.500000\n",
       "0.172414   0.413152\n",
       "0.206897   0.400000\n",
       "0.517241   0.517241\n",
       "0.758621   0.564103\n",
       "0.793103   0.534884\n",
       "0.862069   0.520833\n",
       "0.896552   0.416667\n",
       "0.931034   0.404655\n",
       "0.965517   0.337382\n",
       "1.000000   0.325740"
      ]
     },
     "execution_count": 248,
     "metadata": {},
     "output_type": "execute_result"
    }
   ],
   "source": [
    "sample.groupby(\"recall\").agg(percision=('percision', 'mean'))"
   ]
  },
  {
   "cell_type": "code",
   "execution_count": 262,
   "id": "31897121",
   "metadata": {},
   "outputs": [
    {
     "ename": "ValueError",
     "evalue": "At least 2 points are needed to compute area under curve, but x.shape = 0",
     "output_type": "error",
     "traceback": [
      "\u001b[0;31m---------------------------------------------------------------------------\u001b[0m",
      "\u001b[0;31mValueError\u001b[0m                                Traceback (most recent call last)",
      "Input \u001b[0;32mIn [262]\u001b[0m, in \u001b[0;36m<cell line: 1>\u001b[0;34m()\u001b[0m\n\u001b[0;32m----> 1\u001b[0m grouped\u001b[38;5;241m=\u001b[39m\u001b[43mdata\u001b[49m\u001b[38;5;241;43m.\u001b[39;49m\u001b[43mgroupby\u001b[49m\u001b[43m(\u001b[49m\u001b[43m[\u001b[49m\u001b[38;5;124;43m\"\u001b[39;49m\u001b[38;5;124;43mrun\u001b[39;49m\u001b[38;5;124;43m\"\u001b[39;49m\u001b[43m,\u001b[49m\u001b[38;5;124;43m\"\u001b[39;49m\u001b[38;5;124;43mp2\u001b[39;49m\u001b[38;5;124;43m\"\u001b[39;49m\u001b[43m,\u001b[49m\u001b[38;5;124;43m\"\u001b[39;49m\u001b[38;5;124;43mn\u001b[39;49m\u001b[38;5;124;43m\"\u001b[39;49m\u001b[43m,\u001b[49m\u001b[38;5;124;43m\"\u001b[39;49m\u001b[38;5;124;43mmethod\u001b[39;49m\u001b[38;5;124;43m\"\u001b[39;49m\u001b[43m,\u001b[49m\u001b[38;5;124;43m\"\u001b[39;49m\u001b[38;5;124;43msample_size\u001b[39;49m\u001b[38;5;124;43m\"\u001b[39;49m\u001b[43m]\u001b[49m\u001b[43m)\u001b[49m\u001b[38;5;241;43m.\u001b[39;49m\u001b[43mapply\u001b[49m\u001b[43m(\u001b[49m\u001b[43mcomupte_auroc\u001b[49m\u001b[43m)\u001b[49m\n",
      "File \u001b[0;32m~/anaconda3/lib/python3.9/site-packages/pandas/core/groupby/groupby.py:1414\u001b[0m, in \u001b[0;36mGroupBy.apply\u001b[0;34m(self, func, *args, **kwargs)\u001b[0m\n\u001b[1;32m   1412\u001b[0m \u001b[38;5;28;01mwith\u001b[39;00m option_context(\u001b[38;5;124m\"\u001b[39m\u001b[38;5;124mmode.chained_assignment\u001b[39m\u001b[38;5;124m\"\u001b[39m, \u001b[38;5;28;01mNone\u001b[39;00m):\n\u001b[1;32m   1413\u001b[0m     \u001b[38;5;28;01mtry\u001b[39;00m:\n\u001b[0;32m-> 1414\u001b[0m         result \u001b[38;5;241m=\u001b[39m \u001b[38;5;28;43mself\u001b[39;49m\u001b[38;5;241;43m.\u001b[39;49m\u001b[43m_python_apply_general\u001b[49m\u001b[43m(\u001b[49m\u001b[43mf\u001b[49m\u001b[43m,\u001b[49m\u001b[43m \u001b[49m\u001b[38;5;28;43mself\u001b[39;49m\u001b[38;5;241;43m.\u001b[39;49m\u001b[43m_selected_obj\u001b[49m\u001b[43m)\u001b[49m\n\u001b[1;32m   1415\u001b[0m     \u001b[38;5;28;01mexcept\u001b[39;00m \u001b[38;5;167;01mTypeError\u001b[39;00m:\n\u001b[1;32m   1416\u001b[0m         \u001b[38;5;66;03m# gh-20949\u001b[39;00m\n\u001b[1;32m   1417\u001b[0m         \u001b[38;5;66;03m# try again, with .apply acting as a filtering\u001b[39;00m\n\u001b[0;32m   (...)\u001b[0m\n\u001b[1;32m   1421\u001b[0m         \u001b[38;5;66;03m# fails on *some* columns, e.g. a numeric operation\u001b[39;00m\n\u001b[1;32m   1422\u001b[0m         \u001b[38;5;66;03m# on a string grouper column\u001b[39;00m\n\u001b[1;32m   1424\u001b[0m         \u001b[38;5;28;01mwith\u001b[39;00m \u001b[38;5;28mself\u001b[39m\u001b[38;5;241m.\u001b[39m_group_selection_context():\n",
      "File \u001b[0;32m~/anaconda3/lib/python3.9/site-packages/pandas/core/groupby/groupby.py:1455\u001b[0m, in \u001b[0;36mGroupBy._python_apply_general\u001b[0;34m(self, f, data, not_indexed_same)\u001b[0m\n\u001b[1;32m   1429\u001b[0m \u001b[38;5;129m@final\u001b[39m\n\u001b[1;32m   1430\u001b[0m \u001b[38;5;28;01mdef\u001b[39;00m \u001b[38;5;21m_python_apply_general\u001b[39m(\n\u001b[1;32m   1431\u001b[0m     \u001b[38;5;28mself\u001b[39m,\n\u001b[0;32m   (...)\u001b[0m\n\u001b[1;32m   1434\u001b[0m     not_indexed_same: \u001b[38;5;28mbool\u001b[39m \u001b[38;5;241m|\u001b[39m \u001b[38;5;28;01mNone\u001b[39;00m \u001b[38;5;241m=\u001b[39m \u001b[38;5;28;01mNone\u001b[39;00m,\n\u001b[1;32m   1435\u001b[0m ) \u001b[38;5;241m-\u001b[39m\u001b[38;5;241m>\u001b[39m DataFrame \u001b[38;5;241m|\u001b[39m Series:\n\u001b[1;32m   1436\u001b[0m     \u001b[38;5;124;03m\"\"\"\u001b[39;00m\n\u001b[1;32m   1437\u001b[0m \u001b[38;5;124;03m    Apply function f in python space\u001b[39;00m\n\u001b[1;32m   1438\u001b[0m \n\u001b[0;32m   (...)\u001b[0m\n\u001b[1;32m   1453\u001b[0m \u001b[38;5;124;03m        data after applying f\u001b[39;00m\n\u001b[1;32m   1454\u001b[0m \u001b[38;5;124;03m    \"\"\"\u001b[39;00m\n\u001b[0;32m-> 1455\u001b[0m     values, mutated \u001b[38;5;241m=\u001b[39m \u001b[38;5;28;43mself\u001b[39;49m\u001b[38;5;241;43m.\u001b[39;49m\u001b[43mgrouper\u001b[49m\u001b[38;5;241;43m.\u001b[39;49m\u001b[43mapply\u001b[49m\u001b[43m(\u001b[49m\u001b[43mf\u001b[49m\u001b[43m,\u001b[49m\u001b[43m \u001b[49m\u001b[43mdata\u001b[49m\u001b[43m,\u001b[49m\u001b[43m \u001b[49m\u001b[38;5;28;43mself\u001b[39;49m\u001b[38;5;241;43m.\u001b[39;49m\u001b[43maxis\u001b[49m\u001b[43m)\u001b[49m\n\u001b[1;32m   1457\u001b[0m     \u001b[38;5;28;01mif\u001b[39;00m not_indexed_same \u001b[38;5;129;01mis\u001b[39;00m \u001b[38;5;28;01mNone\u001b[39;00m:\n\u001b[1;32m   1458\u001b[0m         not_indexed_same \u001b[38;5;241m=\u001b[39m mutated \u001b[38;5;129;01mor\u001b[39;00m \u001b[38;5;28mself\u001b[39m\u001b[38;5;241m.\u001b[39mmutated\n",
      "File \u001b[0;32m~/anaconda3/lib/python3.9/site-packages/pandas/core/groupby/ops.py:761\u001b[0m, in \u001b[0;36mBaseGrouper.apply\u001b[0;34m(self, f, data, axis)\u001b[0m\n\u001b[1;32m    759\u001b[0m \u001b[38;5;66;03m# group might be modified\u001b[39;00m\n\u001b[1;32m    760\u001b[0m group_axes \u001b[38;5;241m=\u001b[39m group\u001b[38;5;241m.\u001b[39maxes\n\u001b[0;32m--> 761\u001b[0m res \u001b[38;5;241m=\u001b[39m \u001b[43mf\u001b[49m\u001b[43m(\u001b[49m\u001b[43mgroup\u001b[49m\u001b[43m)\u001b[49m\n\u001b[1;32m    762\u001b[0m \u001b[38;5;28;01mif\u001b[39;00m \u001b[38;5;129;01mnot\u001b[39;00m mutated \u001b[38;5;129;01mand\u001b[39;00m \u001b[38;5;129;01mnot\u001b[39;00m _is_indexed_like(res, group_axes, axis):\n\u001b[1;32m    763\u001b[0m     mutated \u001b[38;5;241m=\u001b[39m \u001b[38;5;28;01mTrue\u001b[39;00m\n",
      "Input \u001b[0;32mIn [257]\u001b[0m, in \u001b[0;36mcomupte_auroc\u001b[0;34m(data)\u001b[0m\n\u001b[1;32m      2\u001b[0m data\u001b[38;5;241m=\u001b[39mdata\u001b[38;5;241m.\u001b[39mdropna()\n\u001b[1;32m      3\u001b[0m data\u001b[38;5;241m=\u001b[39mdata\u001b[38;5;241m.\u001b[39msort_values(by\u001b[38;5;241m=\u001b[39m\u001b[38;5;124m\"\u001b[39m\u001b[38;5;124mfpr\u001b[39m\u001b[38;5;124m\"\u001b[39m)\n\u001b[0;32m----> 4\u001b[0m \u001b[38;5;28;01mreturn\u001b[39;00m(\u001b[43mauc\u001b[49m\u001b[43m(\u001b[49m\u001b[43mdata\u001b[49m\u001b[38;5;241;43m.\u001b[39;49m\u001b[43mfpr\u001b[49m\u001b[43m,\u001b[49m\u001b[43mdata\u001b[49m\u001b[38;5;241;43m.\u001b[39;49m\u001b[43mtpr\u001b[49m\u001b[43m)\u001b[49m)\n",
      "File \u001b[0;32m~/anaconda3/lib/python3.9/site-packages/sklearn/metrics/_ranking.py:89\u001b[0m, in \u001b[0;36mauc\u001b[0;34m(x, y)\u001b[0m\n\u001b[1;32m     86\u001b[0m y \u001b[38;5;241m=\u001b[39m column_or_1d(y)\n\u001b[1;32m     88\u001b[0m \u001b[38;5;28;01mif\u001b[39;00m x\u001b[38;5;241m.\u001b[39mshape[\u001b[38;5;241m0\u001b[39m] \u001b[38;5;241m<\u001b[39m \u001b[38;5;241m2\u001b[39m:\n\u001b[0;32m---> 89\u001b[0m     \u001b[38;5;28;01mraise\u001b[39;00m \u001b[38;5;167;01mValueError\u001b[39;00m(\n\u001b[1;32m     90\u001b[0m         \u001b[38;5;124m\"\u001b[39m\u001b[38;5;124mAt least 2 points are needed to compute area under curve, but x.shape = \u001b[39m\u001b[38;5;132;01m%s\u001b[39;00m\u001b[38;5;124m\"\u001b[39m\n\u001b[1;32m     91\u001b[0m         \u001b[38;5;241m%\u001b[39m x\u001b[38;5;241m.\u001b[39mshape\n\u001b[1;32m     92\u001b[0m     )\n\u001b[1;32m     94\u001b[0m direction \u001b[38;5;241m=\u001b[39m \u001b[38;5;241m1\u001b[39m\n\u001b[1;32m     95\u001b[0m dx \u001b[38;5;241m=\u001b[39m np\u001b[38;5;241m.\u001b[39mdiff(x)\n",
      "\u001b[0;31mValueError\u001b[0m: At least 2 points are needed to compute area under curve, but x.shape = 0"
     ]
    }
   ],
   "source": [
    "grouped=data.groupby([\"run\",\"p2\",\"n\",\"method\",\"sample_size\"]).apply(comupte_auroc)"
   ]
  },
  {
   "cell_type": "code",
   "execution_count": null,
   "id": "7e0bcee3",
   "metadata": {},
   "outputs": [],
   "source": []
  }
 ],
 "metadata": {
  "kernelspec": {
   "display_name": "Python 3 (ipykernel)",
   "language": "python",
   "name": "python3"
  },
  "language_info": {
   "codemirror_mode": {
    "name": "ipython",
    "version": 3
   },
   "file_extension": ".py",
   "mimetype": "text/x-python",
   "name": "python",
   "nbconvert_exporter": "python",
   "pygments_lexer": "ipython3",
   "version": "3.9.12"
  }
 },
 "nbformat": 4,
 "nbformat_minor": 5
}
