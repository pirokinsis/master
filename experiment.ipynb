{
 "cells": [
  {
   "cell_type": "code",
   "execution_count": 1,
   "id": "55a77965",
   "metadata": {},
   "outputs": [],
   "source": [
    "import numpy as np"
   ]
  },
  {
   "cell_type": "code",
   "execution_count": 3,
   "id": "b3757800",
   "metadata": {},
   "outputs": [
    {
     "data": {
      "text/plain": [
       "array([[0.62331841, 0.3081471 , 0.40910745],\n",
       "       [0.24508778, 0.3763761 , 0.5096115 ],\n",
       "       [0.3770657 , 0.9538677 , 0.58079776],\n",
       "       [0.27651431, 0.45711236, 0.83556583],\n",
       "       [0.15126425, 0.05693849, 0.48203974],\n",
       "       [0.16706977, 0.58756404, 0.55314266]])"
      ]
     },
     "execution_count": 3,
     "metadata": {},
     "output_type": "execute_result"
    }
   ],
   "source": [
    "np.random.rand(6,3)"
   ]
  },
  {
   "cell_type": "code",
   "execution_count": 5,
   "id": "1ab7ad28",
   "metadata": {},
   "outputs": [],
   "source": [
    "x=np.zeros((6,6))"
   ]
  },
  {
   "cell_type": "code",
   "execution_count": 8,
   "id": "2d3d86f0",
   "metadata": {},
   "outputs": [],
   "source": [
    "x[:,0:3]=np.random.rand(6,3)"
   ]
  },
  {
   "cell_type": "code",
   "execution_count": 9,
   "id": "9d43507b",
   "metadata": {},
   "outputs": [
    {
     "data": {
      "text/plain": [
       "array([[0.74059284, 0.83263245, 0.76363396, 0.        , 0.        ,\n",
       "        0.        ],\n",
       "       [0.3943478 , 0.32458891, 0.98127706, 0.        , 0.        ,\n",
       "        0.        ],\n",
       "       [0.76669476, 0.90497832, 0.44635235, 0.        , 0.        ,\n",
       "        0.        ],\n",
       "       [0.18883559, 0.69064628, 0.43647918, 0.        , 0.        ,\n",
       "        0.        ],\n",
       "       [0.59345561, 0.01452244, 0.45776702, 0.        , 0.        ,\n",
       "        0.        ],\n",
       "       [0.84962846, 0.32658764, 0.21673816, 0.        , 0.        ,\n",
       "        0.        ]])"
      ]
     },
     "execution_count": 9,
     "metadata": {},
     "output_type": "execute_result"
    }
   ],
   "source": [
    "x"
   ]
  },
  {
   "cell_type": "code",
   "execution_count": 10,
   "id": "41dc64b7",
   "metadata": {},
   "outputs": [],
   "source": [
    "x[0:3,3:6]=-1*np.identity(3)"
   ]
  },
  {
   "cell_type": "code",
   "execution_count": 11,
   "id": "1a2d9bbf",
   "metadata": {},
   "outputs": [
    {
     "data": {
      "text/plain": [
       "array([[ 0.74059284,  0.83263245,  0.76363396, -1.        , -0.        ,\n",
       "        -0.        ],\n",
       "       [ 0.3943478 ,  0.32458891,  0.98127706, -0.        , -1.        ,\n",
       "        -0.        ],\n",
       "       [ 0.76669476,  0.90497832,  0.44635235, -0.        , -0.        ,\n",
       "        -1.        ],\n",
       "       [ 0.18883559,  0.69064628,  0.43647918,  0.        ,  0.        ,\n",
       "         0.        ],\n",
       "       [ 0.59345561,  0.01452244,  0.45776702,  0.        ,  0.        ,\n",
       "         0.        ],\n",
       "       [ 0.84962846,  0.32658764,  0.21673816,  0.        ,  0.        ,\n",
       "         0.        ]])"
      ]
     },
     "execution_count": 11,
     "metadata": {},
     "output_type": "execute_result"
    }
   ],
   "source": [
    "x"
   ]
  },
  {
   "cell_type": "code",
   "execution_count": 20,
   "id": "7b1a2bce",
   "metadata": {},
   "outputs": [],
   "source": [
    "b=np.zeros((6,1))"
   ]
  },
  {
   "cell_type": "code",
   "execution_count": 21,
   "id": "f24ed985",
   "metadata": {},
   "outputs": [],
   "source": [
    "b[4,:]=1"
   ]
  },
  {
   "cell_type": "code",
   "execution_count": 22,
   "id": "1965a01d",
   "metadata": {},
   "outputs": [
    {
     "data": {
      "text/plain": [
       "array([[0.],\n",
       "       [0.],\n",
       "       [0.],\n",
       "       [0.],\n",
       "       [1.],\n",
       "       [0.]])"
      ]
     },
     "execution_count": 22,
     "metadata": {},
     "output_type": "execute_result"
    }
   ],
   "source": [
    "b"
   ]
  },
  {
   "cell_type": "code",
   "execution_count": 23,
   "id": "c5e8d96c",
   "metadata": {},
   "outputs": [
    {
     "data": {
      "text/plain": [
       "array([[-0.03086475],\n",
       "       [-1.42602573],\n",
       "       [ 2.26977083],\n",
       "       [ 0.52306057],\n",
       "       [ 1.75223048],\n",
       "       [-0.30106866]])"
      ]
     },
     "execution_count": 23,
     "metadata": {},
     "output_type": "execute_result"
    }
   ],
   "source": [
    "np.linalg.solve(x,b)"
   ]
  },
  {
   "cell_type": "code",
   "execution_count": null,
   "id": "af8a77d1",
   "metadata": {},
   "outputs": [],
   "source": []
  }
 ],
 "metadata": {
  "kernelspec": {
   "display_name": "Python 3 (ipykernel)",
   "language": "python",
   "name": "python3"
  },
  "language_info": {
   "codemirror_mode": {
    "name": "ipython",
    "version": 3
   },
   "file_extension": ".py",
   "mimetype": "text/x-python",
   "name": "python",
   "nbconvert_exporter": "python",
   "pygments_lexer": "ipython3",
   "version": "3.9.12"
  }
 },
 "nbformat": 4,
 "nbformat_minor": 5
}
